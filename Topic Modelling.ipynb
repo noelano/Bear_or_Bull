{
 "cells": [
  {
   "cell_type": "markdown",
   "metadata": {},
   "source": [
    "## Use LDA topics as input features"
   ]
  },
  {
   "cell_type": "markdown",
   "metadata": {},
   "source": [
    "Aim is to use LDA to generate the doc-topic model.\n",
    "Once generated the topic distributions can form the input features.\n",
    "As long as the number of topics is small enough, the 25 headlines can be kept as seperate documents.\n",
    "\n",
    "Rather than choosing a value for the topic number, perplexities will be used to compute the optimal number."
   ]
  },
  {
   "cell_type": "code",
   "execution_count": 1,
   "metadata": {
    "collapsed": true
   },
   "outputs": [],
   "source": [
    "# Import required packages\n",
    "import pandas as pd\n",
    "import numpy as np\n",
    "\n",
    "from sklearn.decomposition import LatentDirichletAllocation\n",
    "from sklearn.feature_extraction.text import CountVectorizer\n",
    "from sklearn.model_selection import train_test_split\n",
    "\n",
    "from nltk.stem import WordNetLemmatizer\n",
    "from nltk.stem.lancaster import LancasterStemmer\n",
    "\n",
    "%matplotlib inline\n",
    "import matplotlib.pyplot as plt"
   ]
  },
  {
   "cell_type": "code",
   "execution_count": 2,
   "metadata": {
    "collapsed": true
   },
   "outputs": [],
   "source": [
    "# Set seed\n",
    "seed = 1984\n",
    "np.random.seed(seed)"
   ]
  },
  {
   "cell_type": "code",
   "execution_count": 3,
   "metadata": {
    "collapsed": false
   },
   "outputs": [
    {
     "data": {
      "text/plain": [
       "'NA'"
      ]
     },
     "execution_count": 3,
     "metadata": {},
     "output_type": "execute_result"
    }
   ],
   "source": [
    "# Load training data\n",
    "train = pd.read_csv(\"Datasets/Combined_News_DJIA_train.csv\")\n",
    "\n",
    "# First correct the nan records in the training data\n",
    "train.set_value(277, 'Top23', \"NA\")\n",
    "train.set_value(277, 'Top24', \"NA\")\n",
    "train.set_value(277, 'Top25', \"NA\")\n",
    "train.set_value(348, 'Top24', \"NA\")\n",
    "train.set_value(348, 'Top25', \"NA\")\n",
    "train.set_value(681, 'Top24', \"NA\")\n",
    "train.set_value(681, 'Top25', \"NA\")\n",
    "train['Top23'][277]"
   ]
  },
  {
   "cell_type": "code",
   "execution_count": 4,
   "metadata": {
    "collapsed": false
   },
   "outputs": [
    {
     "name": "stdout",
     "output_type": "stream",
     "text": [
      "b\"Georgia 'downs two Russian warplanes' as countries move to brink of war\"\n",
      "georgia down two russian warplane a country move to brink of war\n"
     ]
    },
    {
     "data": {
      "text/plain": [
       "(40275, 15653)"
      ]
     },
     "execution_count": 4,
     "metadata": {},
     "output_type": "execute_result"
    }
   ],
   "source": [
    "# Use CountVectorizer to handle most of these in one step!\n",
    "vectorizer = CountVectorizer(max_df=0.95, min_df=2, stop_words='english')\n",
    "\n",
    "doc_array = train[[x for x in train.columns if 'Top' in x]].values.flatten()\n",
    "print(doc_array[0])\n",
    "\n",
    "# Convert to lowercase, stem and lemmatize\n",
    "ls = LancasterStemmer\n",
    "wl = WordNetLemmatizer()\n",
    "#doc_array = [str(x).lower() for x in doc_array]\n",
    "doc_array = [\" \".join([wl.lemmatize(x.lower()) for x in CountVectorizer().build_tokenizer()(doc)]) for doc in doc_array]\n",
    "\n",
    "print(doc_array[0])\n",
    "\n",
    "tdm = vectorizer.fit_transform(doc_array)\n",
    "tdm.shape"
   ]
  },
  {
   "cell_type": "markdown",
   "metadata": {},
   "source": [
    "Save the TDM to a csv file for easy use later on"
   ]
  },
  {
   "cell_type": "code",
   "execution_count": 5,
   "metadata": {
    "collapsed": false
   },
   "outputs": [],
   "source": [
    "vocab = vectorizer.get_feature_names()\n",
    "tdm_df = pd.DataFrame(data=tdm.todense(), columns=vocab)\n",
    "\n",
    "tdm_df.to_csv('Basic_TDM.csv', index=False)"
   ]
  },
  {
   "cell_type": "markdown",
   "metadata": {},
   "source": [
    "### Perplexities\n",
    "Loop over a range of topic numbers, computing the perplexities for each \n",
    "(Data will need to be split into training and test subsets)\n",
    "\n",
    "The perplxities are then plotted to determine the optimal number of topics to use for the model"
   ]
  },
  {
   "cell_type": "code",
   "execution_count": 6,
   "metadata": {
    "collapsed": false
   },
   "outputs": [
    {
     "data": {
      "text/plain": [
       "(26984, 15653)"
      ]
     },
     "execution_count": 6,
     "metadata": {},
     "output_type": "execute_result"
    }
   ],
   "source": [
    "# Split into train / test subsets\n",
    "\n",
    "X_train, X_test = train_test_split(\n",
    "    tdm_df.values, test_size=0.33, random_state=42)\n",
    "\n",
    "X_train.shape"
   ]
  },
  {
   "cell_type": "code",
   "execution_count": 9,
   "metadata": {
    "collapsed": false
   },
   "outputs": [
    {
     "name": "stdout",
     "output_type": "stream",
     "text": [
      "1 4753.55159486\n",
      "2 8686.06494757\n",
      "3 18291.9406317\n",
      "4 45018.1947929\n",
      "5 110121.170327\n",
      "6 265833.72247\n",
      "7 623108.679341\n",
      "8 1467702.97092\n",
      "9 3382869.79683\n",
      "10 7825884.81791\n",
      "11 18100914.4447\n",
      "12 41311314.6539\n",
      "13 95501315.3145\n",
      "14 215429931.35\n",
      "15 491434739.1\n",
      "16 1136707027.39\n",
      "17 2606757170.24\n",
      "18 5826510317.16\n",
      "19 13597517067.3\n",
      "20 30927965464.9\n",
      "21 69632435602.9\n",
      "22 157007974137.0\n",
      "23 355804157054.0\n",
      "24 817992322206.0\n",
      "25 1.8223333977e+12\n",
      "26 3.99062245925e+12\n",
      "27 8.75594228567e+12\n",
      "28 1.94570756282e+13\n",
      "29 4.14741142364e+13\n",
      "30 9.63148490254e+13\n",
      "31 2.15942986804e+14\n",
      "32 4.74255892092e+14\n",
      "33 1.08934799564e+15\n",
      "34 2.53297205508e+15\n",
      "35 5.58385837513e+15\n",
      "36 1.27084003939e+16\n",
      "37 2.86124782989e+16\n",
      "38 6.6389710652e+16\n",
      "39 1.46608119731e+17\n",
      "40 3.21926286478e+17\n",
      "41 7.46123437398e+17\n",
      "42 1.64376760503e+18\n",
      "43 3.75172910902e+18\n",
      "44 8.30816859051e+18\n",
      "45 1.8826108903e+19\n",
      "46 4.27239741688e+19\n",
      "47 9.55211434173e+19\n",
      "48 2.10099841127e+20\n",
      "49 4.82732217814e+20\n"
     ]
    }
   ],
   "source": [
    "# Setup intial vars\n",
    "\n",
    "topic_nums = [i for i in range(1, 50)]\n",
    "perplexities = []\n",
    "\n",
    "# Evaluate the perplxities per topic number\n",
    "for t in topic_nums:\n",
    "    a = None #50.0 / t\n",
    "    #b = 0.05\n",
    "    b = None #0.012    # This corresponds to 200 / W\n",
    "    lda = LatentDirichletAllocation(n_topics=t, max_iter=5,\n",
    "                                    learning_method='batch',\n",
    "                                    random_state=0,\n",
    "                                    doc_topic_prior=a,\n",
    "                                    topic_word_prior=b)\n",
    "\n",
    "    lda.fit(X_train)\n",
    "\n",
    "    test_gamma = lda.transform(X_test)\n",
    "    perp = lda.perplexity(X_test, test_gamma)\n",
    "    perplexities.append(perp)\n",
    "    print(t, perp)"
   ]
  },
  {
   "cell_type": "code",
   "execution_count": 10,
   "metadata": {
    "collapsed": false
   },
   "outputs": [
    {
     "data": {
      "image/png": "[encoded data removed]",
      "text/plain": [
       "<matplotlib.figure.Figure at 0x18c026bcbe0>"
      ]
     },
     "metadata": {},
     "output_type": "display_data"
    }
   ],
   "source": [
    "# Plot the computed perplexity values\n",
    "\n",
    "fig = plt.figure()\n",
    "ax = fig.add_subplot(111)\n",
    "ax.plot(topic_nums, perplexities, 'b*-')\n",
    "plt.grid(True)\n",
    "plt.xlabel('Number of topics')\n",
    "plt.ylabel('Perplexities')\n",
    "plt.show()"
   ]
  }
 ],
 "metadata": {
  "kernelspec": {
   "display_name": "Python 3",
   "language": "python",
   "name": "python3"
  },
  "language_info": {
   "codemirror_mode": {
    "name": "ipython",
    "version": 3
   },
   "file_extension": ".py",
   "mimetype": "text/x-python",
   "name": "python",
   "nbconvert_exporter": "python",
   "pygments_lexer": "ipython3",
   "version": "3.5.1"
  }
 },
 "nbformat": 4,
 "nbformat_minor": 2
}
