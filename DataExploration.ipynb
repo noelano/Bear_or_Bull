{
 "cells": [
  {
   "cell_type": "markdown",
   "metadata": {},
   "source": [
    "## Exploratory analysis "
   ]
  },
  {
   "cell_type": "markdown",
   "metadata": {},
   "source": [
    "Summary stats and investigations into training dataset"
   ]
  },
  {
   "cell_type": "code",
   "execution_count": 1,
   "metadata": {
    "collapsed": false
   },
   "outputs": [],
   "source": [
    "# Load required libraries\n",
    "import pandas as pd\n",
    "import numpy as np\n",
    "from nltk.stem import WordNetLemmatizer\n",
    "from nltk.stem.lancaster import LancasterStemmer\n",
    "from sklearn.feature_extraction.text import CountVectorizer, TfidfVectorizer\n",
    "from sklearn.model_selection import train_test_split\n",
    "\n",
    "%matplotlib inline"
   ]
  },
  {
   "cell_type": "code",
   "execution_count": 2,
   "metadata": {
    "collapsed": true
   },
   "outputs": [],
   "source": [
    "# Set seed\n",
    "seed = 1984\n",
    "np.random.seed(seed)"
   ]
  },
  {
   "cell_type": "code",
   "execution_count": 3,
   "metadata": {
    "collapsed": false
   },
   "outputs": [
    {
     "data": {
      "text/plain": [
       "(1611, 28)"
      ]
     },
     "execution_count": 3,
     "metadata": {},
     "output_type": "execute_result"
    }
   ],
   "source": [
    "train = pd.read_csv(\"Datasets/Combined_News_DJIA_train.csv\")\n",
    "train.shape"
   ]
  },
  {
   "cell_type": "code",
   "execution_count": 4,
   "metadata": {
    "collapsed": false
   },
   "outputs": [
    {
     "data": {
      "text/plain": [
       "'b\"Georgia \\'downs two Russian warplanes\\' as countries move to brink of war\"'"
      ]
     },
     "execution_count": 4,
     "metadata": {},
     "output_type": "execute_result"
    }
   ],
   "source": [
    "train['Top1'][0]"
   ]
  },
  {
   "cell_type": "code",
   "execution_count": 5,
   "metadata": {
    "collapsed": false
   },
   "outputs": [
    {
     "name": "stdout",
     "output_type": "stream",
     "text": [
      "277 Top23 nan\n",
      "277 Top24 nan\n",
      "348 Top24 nan\n",
      "681 Top24 nan\n",
      "277 Top25 nan\n",
      "348 Top25 nan\n",
      "681 Top25 nan\n"
     ]
    },
    {
     "data": {
      "text/plain": [
       "40275"
      ]
     },
     "execution_count": 5,
     "metadata": {},
     "output_type": "execute_result"
    }
   ],
   "source": [
    "# Extract all news headlines into a single doc corpus\n",
    "doc_list = []\n",
    "cols = [x for x in train.columns if 'Top' in x]\n",
    "\n",
    "for c in cols:\n",
    "    for r in range(train.shape[0]):\n",
    "        try:\n",
    "            doc_list.append(CountVectorizer().build_tokenizer()(train[c][r]))\n",
    "        except:\n",
    "            # Some dates don't have 25 top stories\n",
    "            # Identify the missing cells for later use\n",
    "            print(r, c, train[c][r])\n",
    "            doc_list.append('')\n",
    "\n",
    "len(doc_list)"
   ]
  },
  {
   "cell_type": "code",
   "execution_count": 6,
   "metadata": {
    "collapsed": false
   },
   "outputs": [
    {
     "data": {
      "text/plain": [
       "['Georgia',\n",
       " 'downs',\n",
       " 'two',\n",
       " 'Russian',\n",
       " 'warplanes',\n",
       " 'as',\n",
       " 'countries',\n",
       " 'move',\n",
       " 'to',\n",
       " 'brink',\n",
       " 'of',\n",
       " 'war']"
      ]
     },
     "execution_count": 6,
     "metadata": {},
     "output_type": "execute_result"
    }
   ],
   "source": [
    "doc_list[0]"
   ]
  },
  {
   "cell_type": "markdown",
   "metadata": {
    "collapsed": false
   },
   "source": [
    "There are a few missing headlines but otherwise we've now gathered a list of all documents\n",
    "Next step is to process the text with the following steps\n",
    "- Convert everything to lowercase\n",
    "- Remove stopwords\n",
    "- Stem words\n",
    "- Remove unique words (Those only appearing in one document)"
   ]
  },
  {
   "cell_type": "code",
   "execution_count": 7,
   "metadata": {
    "collapsed": false
   },
   "outputs": [
    {
     "data": {
      "text/plain": [
       "'NA'"
      ]
     },
     "execution_count": 7,
     "metadata": {},
     "output_type": "execute_result"
    }
   ],
   "source": [
    "# First correct the nan records in the training data\n",
    "train.set_value(277, 'Top23', \"NA\")\n",
    "train.set_value(277, 'Top24', \"NA\")\n",
    "train.set_value(277, 'Top25', \"NA\")\n",
    "train.set_value(348, 'Top24', \"NA\")\n",
    "train.set_value(348, 'Top25', \"NA\")\n",
    "train.set_value(681, 'Top24', \"NA\")\n",
    "train.set_value(681, 'Top25', \"NA\")\n",
    "train['Top23'][277]"
   ]
  },
  {
   "cell_type": "code",
   "execution_count": 8,
   "metadata": {
    "collapsed": false
   },
   "outputs": [
    {
     "name": "stdout",
     "output_type": "stream",
     "text": [
      "b\"Georgia 'downs two Russian warplanes' as countries move to brink of war\"\n",
      "georgia down two russian warplane a country move to brink of war\n"
     ]
    },
    {
     "data": {
      "text/plain": [
       "(40275, 15653)"
      ]
     },
     "execution_count": 8,
     "metadata": {},
     "output_type": "execute_result"
    }
   ],
   "source": [
    "# Use CountVectorizer to handle most of these in one step!\n",
    "vectorizer = CountVectorizer(max_df=0.95, min_df=2, stop_words='english')\n",
    "\n",
    "doc_array = train[[x for x in train.columns if 'Top' in x]].values.flatten()\n",
    "print(doc_array[0])\n",
    "\n",
    "# Convert to lowercase, stem and lemmatize\n",
    "ls = LancasterStemmer\n",
    "wl = WordNetLemmatizer()\n",
    "#doc_array = [str(x).lower() for x in doc_array]\n",
    "doc_array = [\" \".join([wl.lemmatize(x.lower()) for x in CountVectorizer().build_tokenizer()(doc)]) for doc in doc_array]\n",
    "\n",
    "print(doc_array[0])\n",
    "\n",
    "tdm = vectorizer.fit_transform(doc_array)\n",
    "tdm.shape"
   ]
  },
  {
   "cell_type": "code",
   "execution_count": 9,
   "metadata": {
    "collapsed": false
   },
   "outputs": [
    {
     "data": {
      "text/plain": [
       "'2016'"
      ]
     },
     "execution_count": 9,
     "metadata": {},
     "output_type": "execute_result"
    }
   ],
   "source": [
    "vocab = vectorizer.get_feature_names()\n",
    "len(vocab)\n",
    "vocab[215]"
   ]
  },
  {
   "cell_type": "code",
   "execution_count": 10,
   "metadata": {
    "collapsed": false
   },
   "outputs": [
    {
     "data": {
      "text/plain": [
       "1"
      ]
     },
     "execution_count": 10,
     "metadata": {},
     "output_type": "execute_result"
    }
   ],
   "source": [
    "col_ind = vocab.index('breaking')\n",
    "tdm[1,col_ind]"
   ]
  },
  {
   "cell_type": "code",
   "execution_count": 11,
   "metadata": {
    "collapsed": false
   },
   "outputs": [
    {
     "data": {
      "text/plain": [
       "(40275, 15653)"
      ]
     },
     "execution_count": 11,
     "metadata": {},
     "output_type": "execute_result"
    }
   ],
   "source": [
    "tdm_df = pd.DataFrame(data=tdm.todense(), columns=vocab)\n",
    "tdm_df.shape"
   ]
  },
  {
   "cell_type": "code",
   "execution_count": 12,
   "metadata": {
    "collapsed": false
   },
   "outputs": [
    {
     "data": {
      "text/html": [
       "<div>\n",
       "<table border=\"1\" class=\"dataframe\">\n",
       "  <thead>\n",
       "    <tr style=\"text-align: right;\">\n",
       "      <th></th>\n",
       "      <th>rival</th>\n",
       "      <th>rivalry</th>\n",
       "      <th>river</th>\n",
       "      <th>riverside</th>\n",
       "      <th>riviera</th>\n",
       "    </tr>\n",
       "  </thead>\n",
       "  <tbody>\n",
       "    <tr>\n",
       "      <th>0</th>\n",
       "      <td>0</td>\n",
       "      <td>0</td>\n",
       "      <td>0</td>\n",
       "      <td>0</td>\n",
       "      <td>0</td>\n",
       "    </tr>\n",
       "    <tr>\n",
       "      <th>1</th>\n",
       "      <td>0</td>\n",
       "      <td>0</td>\n",
       "      <td>0</td>\n",
       "      <td>0</td>\n",
       "      <td>0</td>\n",
       "    </tr>\n",
       "    <tr>\n",
       "      <th>2</th>\n",
       "      <td>0</td>\n",
       "      <td>0</td>\n",
       "      <td>0</td>\n",
       "      <td>0</td>\n",
       "      <td>0</td>\n",
       "    </tr>\n",
       "    <tr>\n",
       "      <th>3</th>\n",
       "      <td>0</td>\n",
       "      <td>0</td>\n",
       "      <td>0</td>\n",
       "      <td>0</td>\n",
       "      <td>0</td>\n",
       "    </tr>\n",
       "    <tr>\n",
       "      <th>4</th>\n",
       "      <td>0</td>\n",
       "      <td>0</td>\n",
       "      <td>0</td>\n",
       "      <td>0</td>\n",
       "      <td>0</td>\n",
       "    </tr>\n",
       "  </tbody>\n",
       "</table>\n",
       "</div>"
      ],
      "text/plain": [
       "   rival  rivalry  river  riverside  riviera\n",
       "0      0        0      0          0        0\n",
       "1      0        0      0          0        0\n",
       "2      0        0      0          0        0\n",
       "3      0        0      0          0        0\n",
       "4      0        0      0          0        0"
      ]
     },
     "execution_count": 12,
     "metadata": {},
     "output_type": "execute_result"
    }
   ],
   "source": [
    "tdm_df.iloc[0:5,12000:12005]"
   ]
  },
  {
   "cell_type": "markdown",
   "metadata": {},
   "source": [
    "Some initial analysis will be performed on the makeup of the headlines:\n",
    "* What are the most frequently occurring words?\n",
    "* What are the least frequently occurring words?\n",
    "* What does the word distribution look like?"
   ]
  },
  {
   "cell_type": "code",
   "execution_count": 13,
   "metadata": {
    "collapsed": false
   },
   "outputs": [
    {
     "data": {
      "text/plain": [
       "(40276, 15653)"
      ]
     },
     "execution_count": 13,
     "metadata": {},
     "output_type": "execute_result"
    }
   ],
   "source": [
    "# First append the totals to the df\n",
    "tdm_df.loc['Total']= tdm_df.sum()\n",
    "\n",
    "# Now sort columns based on total row\n",
    "sorted_df = tdm_df.sort_values(tdm_df.last_valid_index(), axis=1)\n",
    "\n",
    "sorted_df.shape"
   ]
  },
  {
   "cell_type": "code",
   "execution_count": 14,
   "metadata": {
    "collapsed": false
   },
   "outputs": [
    {
     "data": {
      "text/plain": [
       "pooling       2\n",
       "supersonic    2\n",
       "purloined     2\n",
       "goodyear      2\n",
       "goodness      2\n",
       "goodall       2\n",
       "purple        2\n",
       "chem          2\n",
       "gooch         2\n",
       "gonna         2\n",
       "Name: Total, dtype: int64"
      ]
     },
     "execution_count": 14,
     "metadata": {},
     "output_type": "execute_result"
    }
   ],
   "source": [
    "# Lowest count words\n",
    "sorted_df.loc['Total'][0:10]"
   ]
  },
  {
   "cell_type": "code",
   "execution_count": 15,
   "metadata": {
    "collapsed": false
   },
   "outputs": [
    {
     "data": {
      "text/plain": [
       "police        1666\n",
       "china         1801\n",
       "government    1849\n",
       "new           1871\n",
       "world         1951\n",
       "israel        1984\n",
       "wa            2160\n",
       "year          2436\n",
       "say           2500\n",
       "ha            3728\n",
       "Name: Total, dtype: int64"
      ]
     },
     "execution_count": 15,
     "metadata": {},
     "output_type": "execute_result"
    }
   ],
   "source": [
    "# Highest count words\n",
    "sorted_df.loc['Total'][-10:]"
   ]
  },
  {
   "cell_type": "code",
   "execution_count": 16,
   "metadata": {
    "collapsed": false
   },
   "outputs": [
    {
     "data": {
      "text/plain": [
       "<matplotlib.axes._subplots.AxesSubplot at 0x2930b52fcc0>"
      ]
     },
     "execution_count": 16,
     "metadata": {},
     "output_type": "execute_result"
    },
    {
     "data": {
      "image/png": "[encoded data removed]",
      "text/plain": [
       "<matplotlib.figure.Figure at 0x29305164a20>"
      ]
     },
     "metadata": {},
     "output_type": "display_data"
    }
   ],
   "source": [
    "# Plot histogram of word totals\n",
    "sorted_df.loc['Total'].plot(kind='bar', figsize=[30,10])"
   ]
  },
  {
   "cell_type": "code",
   "execution_count": 17,
   "metadata": {
    "collapsed": true
   },
   "outputs": [],
   "source": [
    "# Cleanup extraneous data\n",
    "del sorted_df\n",
    "del tdm_df\n",
    "del tdm\n",
    "del doc_array\n",
    "del vocab\n",
    "del doc_list"
   ]
  }
 ],
 "metadata": {
  "kernelspec": {
   "display_name": "Python 3",
   "language": "python",
   "name": "python3"
  },
  "language_info": {
   "codemirror_mode": {
    "name": "ipython",
    "version": 3
   },
   "file_extension": ".py",
   "mimetype": "text/x-python",
   "name": "python",
   "nbconvert_exporter": "python",
   "pygments_lexer": "ipython3",
   "version": "3.5.1"
  }
 },
 "nbformat": 4,
 "nbformat_minor": 2
}
