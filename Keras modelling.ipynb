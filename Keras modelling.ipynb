{
 "cells": [
  {
   "cell_type": "code",
   "execution_count": 11,
   "metadata": {
    "collapsed": false
   },
   "outputs": [],
   "source": [
    "import pandas as pd\n",
    "import numpy as np\n",
    "\n",
    "%matplotlib inline\n",
    "import matplotlib.pyplot as plt\n",
    "\n",
    "from nltk.stem import WordNetLemmatizer\n",
    "from nltk.stem.lancaster import LancasterStemmer\n",
    "\n",
    "from keras.models import Sequential\n",
    "from keras.layers import Dense, Dropout\n",
    "from keras.wrappers.scikit_learn import KerasClassifier\n",
    "from keras.constraints import maxnorm\n",
    "\n",
    "from sklearn.feature_extraction.text import CountVectorizer, TfidfVectorizer\n",
    "from sklearn.model_selection import train_test_split\n",
    "from sklearn.metrics import confusion_matrix\n",
    "from sklearn.model_selection import cross_val_score\n",
    "from sklearn.model_selection import StratifiedKFold\n",
    "from sklearn.preprocessing import StandardScaler\n",
    "from sklearn.pipeline import Pipeline"
   ]
  },
  {
   "cell_type": "markdown",
   "metadata": {},
   "source": [
    "### Modelling\n",
    "The baseline is going to be taken as a basic neural net, with 1 hidden layer and dropout. Keras is used to build and train the model\n",
    "First though, we need to re-define the input features. Keeping each of the 25 headlines seperate gives almost 400,000 features which gives too high a computational burden. Instead, all headlines will be merged to give a single document per date. Since we're using a bag of words approach this should have negligible impact - our prediction will be based on the presence of a small set of keywords which should perform the same even with the headlines merged"
   ]
  },
  {
   "cell_type": "code",
   "execution_count": 2,
   "metadata": {
    "collapsed": false
   },
   "outputs": [],
   "source": [
    "# Set seed\n",
    "seed = 1984\n",
    "np.random.seed(seed)"
   ]
  },
  {
   "cell_type": "code",
   "execution_count": 3,
   "metadata": {
    "collapsed": false
   },
   "outputs": [
    {
     "data": {
      "text/plain": [
       "(1611, 28)"
      ]
     },
     "execution_count": 3,
     "metadata": {},
     "output_type": "execute_result"
    }
   ],
   "source": [
    "# Load training data\n",
    "train = pd.read_csv(\"Datasets/Combined_News_DJIA_train.csv\")\n",
    "train.shape"
   ]
  },
  {
   "cell_type": "code",
   "execution_count": 4,
   "metadata": {
    "collapsed": false
   },
   "outputs": [
    {
     "data": {
      "text/plain": [
       "'NA'"
      ]
     },
     "execution_count": 4,
     "metadata": {},
     "output_type": "execute_result"
    }
   ],
   "source": [
    "# First correct the nan records in the training data\n",
    "train.set_value(277, 'Top23', \"NA\")\n",
    "train.set_value(277, 'Top24', \"NA\")\n",
    "train.set_value(277, 'Top25', \"NA\")\n",
    "train.set_value(348, 'Top24', \"NA\")\n",
    "train.set_value(348, 'Top25', \"NA\")\n",
    "train.set_value(681, 'Top24', \"NA\")\n",
    "train.set_value(681, 'Top25', \"NA\")\n",
    "train['Top23'][277]"
   ]
  },
  {
   "cell_type": "code",
   "execution_count": 5,
   "metadata": {
    "collapsed": false
   },
   "outputs": [
    {
     "data": {
      "text/plain": [
       "'b\"Georgia \\'downs two Russian warplanes\\' as countries move to brink of war\" b\\'BREAKING: Musharraf to be impeached.\\' b\\'Russia Today: Columns of troops roll into South Ossetia; footage from fighting (YouTube)\\' b\\'Russian tanks are moving towards the capital of South Ossetia, which has reportedly been completely destroyed by Georgian artillery fire\\' b\"Afghan children raped with \\'impunity,\\' U.N. official says - this is sick, a three year old was raped and they do nothing\" b\\'150 Russian tanks have entered South Ossetia whilst Georgia shoots down two Russian jets.\\' b\"Breaking: Georgia invades South Ossetia, Russia warned it would intervene on SO\\'s side\" b\"The \\'enemy combatent\\' trials are nothing but a sham: Salim Haman has been sentenced to 5 1/2 years, but will be kept longer anyway just because they feel like it.\" b\\'Georgian troops retreat from S. Osettain capital, presumably leaving several hundred people killed. [VIDEO]\\' b\\'Did the U.S. Prep Georgia for War with Russia?\\' b\\'Rice Gives Green Light for Israel to Attack Iran: Says U.S. has no veto over Israeli military ops\\' b\\'Announcing:Class Action Lawsuit on Behalf of American Public Against the FBI\\' b\"So---Russia and Georgia are at war and the NYT\\'s top story is opening ceremonies of the Olympics?  What a fucking disgrace and yet further proof of the decline of journalism.\" b\"China tells Bush to stay out of other countries\\' affairs\" b\\'Did World War III start today?\\' b\\'Georgia Invades South Ossetia - if Russia gets involved, will NATO absorb Georgia and unleash a full scale war?\\' b\\'Al-Qaeda Faces Islamist Backlash\\' b\\'Condoleezza Rice: \"The US would not act to prevent an Israeli strike on Iran.\" Israeli Defense Minister Ehud Barak: \"Israel is prepared for uncompromising victory in the case of military hostilities.\"\\' b\\'This is a busy day:  The European Union has approved new sanctions against Iran in protest at its nuclear programme.\\' b\"Georgia will withdraw 1,000 soldiers from Iraq to help fight off Russian forces in Georgia\\'s breakaway region of South Ossetia\" b\\'Why the Pentagon Thinks Attacking Iran is a Bad Idea - US News &amp; World Report\\' b\\'Caucasus in crisis: Georgia invades South Ossetia\\' b\\'Indian shoe manufactory  - And again in a series of \"you do not like your work?\"\\' b\\'Visitors Suffering from Mental Illnesses Banned from Olympics\\' b\"No Help for Mexico\\'s Kidnapping Surge\"'"
      ]
     },
     "execution_count": 5,
     "metadata": {},
     "output_type": "execute_result"
    }
   ],
   "source": [
    "# Combine all headings into a single document per date\n",
    "#train['Combined'] = \" \".join([str(train[x]) for x in train.columns if 'Top' in x])\n",
    "train['Combined'] = train[[x for x in train.columns if 'Top' in x]].apply(lambda x: ' '.join(x), axis=1)\n",
    "train.loc[0, 'Combined']"
   ]
  },
  {
   "cell_type": "code",
   "execution_count": 6,
   "metadata": {
    "collapsed": false
   },
   "outputs": [
    {
     "name": "stdout",
     "output_type": "stream",
     "text": [
      "georgia down two russian warplane a country move to brink of war breaking musharraf to be impeached russia today column of troop roll into south ossetia footage from fighting youtube russian tank are moving towards the capital of south ossetia which ha reportedly been completely destroyed by georgian artillery fire afghan child raped with impunity official say this is sick three year old wa raped and they do nothing 150 russian tank have entered south ossetia whilst georgia shoot down two russian jet breaking georgia invades south ossetia russia warned it would intervene on so side the enemy combatent trial are nothing but sham salim haman ha been sentenced to year but will be kept longer anyway just because they feel like it georgian troop retreat from osettain capital presumably leaving several hundred people killed video did the prep georgia for war with russia rice give green light for israel to attack iran say ha no veto over israeli military ops announcing class action lawsuit on behalf of american public against the fbi so russia and georgia are at war and the nyt top story is opening ceremony of the olympics what fucking disgrace and yet further proof of the decline of journalism china tell bush to stay out of other country affair did world war iii start today georgia invades south ossetia if russia get involved will nato absorb georgia and unleash full scale war al qaeda face islamist backlash condoleezza rice the u would not act to prevent an israeli strike on iran israeli defense minister ehud barak israel is prepared for uncompromising victory in the case of military hostility this is busy day the european union ha approved new sanction against iran in protest at it nuclear programme georgia will withdraw 000 soldier from iraq to help fight off russian force in georgia breakaway region of south ossetia why the pentagon think attacking iran is bad idea u news amp world report caucasus in crisis georgia invades south ossetia indian shoe manufactory and again in series of you do not like your work visitor suffering from mental illness banned from olympics no help for mexico kidnapping surge\n"
     ]
    }
   ],
   "source": [
    "# Build tf-idf term document matrix from this\n",
    "vectorizer = TfidfVectorizer(max_df=0.95, min_df=2, stop_words='english')\n",
    "\n",
    "# Convert to lowercase, stem and lemmatize\n",
    "ls = LancasterStemmer\n",
    "wl = WordNetLemmatizer()\n",
    "\n",
    "doc_list = [\" \".join([wl.lemmatize(x.lower()) for x in CountVectorizer().build_tokenizer()(doc)]) for doc in list(train['Combined'])]\n",
    "\n",
    "print(doc_list[0])"
   ]
  },
  {
   "cell_type": "code",
   "execution_count": 7,
   "metadata": {
    "collapsed": false
   },
   "outputs": [
    {
     "name": "stdout",
     "output_type": "stream",
     "text": [
      "1079\n",
      "(1079,)\n"
     ]
    }
   ],
   "source": [
    "# Split into train and test subsets\n",
    "Input_y = train['Target']\n",
    "\n",
    "X_train, X_test, y_train, y_test = train_test_split(\n",
    "    doc_list, Input_y, test_size=0.33, random_state=42, stratify=Input_y)\n",
    "\n",
    "print(len(X_train))\n",
    "print(y_train.shape)"
   ]
  },
  {
   "cell_type": "code",
   "execution_count": 8,
   "metadata": {
    "collapsed": false
   },
   "outputs": [
    {
     "data": {
      "text/plain": [
       "<matplotlib.axes._subplots.AxesSubplot at 0x2322f4e3668>"
      ]
     },
     "execution_count": 8,
     "metadata": {},
     "output_type": "execute_result"
    },
    {
     "data": {
      "image/png": "[encoded data removed]",
      "text/plain": [
       "<matplotlib.figure.Figure at 0x232354a27b8>"
      ]
     },
     "metadata": {},
     "output_type": "display_data"
    }
   ],
   "source": [
    "# plot of breakdown of target var on training and test sets\n",
    "y_train.plot(kind='hist', figsize=[30,10])\n",
    "y_test.plot(kind='hist', figsize=[30,10])"
   ]
  },
  {
   "cell_type": "code",
   "execution_count": 8,
   "metadata": {
    "collapsed": false
   },
   "outputs": [
    {
     "data": {
      "text/plain": [
       "(1079, 12864)"
      ]
     },
     "execution_count": 8,
     "metadata": {},
     "output_type": "execute_result"
    }
   ],
   "source": [
    "# Convert to data frame (With dense input matrix)\n",
    "train_tf_idf = vectorizer.fit_transform(X_train)\n",
    "\n",
    "vocab = vectorizer.get_feature_names()\n",
    "train_tdm_df = pd.DataFrame(data=train_tf_idf.todense(), columns=vocab)\n",
    "train_tdm_df.shape"
   ]
  },
  {
   "cell_type": "code",
   "execution_count": 9,
   "metadata": {
    "collapsed": false
   },
   "outputs": [
    {
     "data": {
      "text/plain": [
       "(532, 12864)"
      ]
     },
     "execution_count": 9,
     "metadata": {},
     "output_type": "execute_result"
    }
   ],
   "source": [
    "# Get tf-idf values for test data\n",
    "X_test = vectorizer.transform(X_test)\n",
    "test_df = pd.DataFrame(data=X_test.todense(), columns=vocab)\n",
    "test_df.shape"
   ]
  },
  {
   "cell_type": "code",
   "execution_count": 11,
   "metadata": {
    "collapsed": false
   },
   "outputs": [
    {
     "data": {
      "text/plain": [
       "<keras.callbacks.History at 0x23236b10f98>"
      ]
     },
     "execution_count": 11,
     "metadata": {},
     "output_type": "execute_result"
    }
   ],
   "source": [
    "# Fit a model to the training data\n",
    "width = train_tdm_df.shape[1]\n",
    "layer_shape = 2000\n",
    "\n",
    "model = Sequential()\n",
    "model.add(Dense(width, input_dim=width, activation='relu'))\n",
    "model.add(Dropout(0.5))\n",
    "model.add(Dense(layer_shape, activation='relu'))\n",
    "model.add(Dropout(0.5))\n",
    "model.add(Dense(1, activation='sigmoid'))\n",
    "\n",
    "model.compile(loss='binary_crossentropy',\n",
    "              optimizer='adadelta',\n",
    "              metrics=['accuracy'])\n",
    "\n",
    "model.fit(train_tdm_df.values, y_train, verbose=0)"
   ]
  },
  {
   "cell_type": "code",
   "execution_count": 12,
   "metadata": {
    "collapsed": true
   },
   "outputs": [],
   "source": [
    "# Predict on test set\n",
    "y_pred = model.predict(test_df.values)"
   ]
  },
  {
   "cell_type": "code",
   "execution_count": 13,
   "metadata": {
    "collapsed": false
   },
   "outputs": [
    {
     "data": {
      "text/plain": [
       "(array([  6.,   6.,   7.,   8.,  11.,  11.,   8.,   9.,   3.,  15.,  21.,\n",
       "          8.,   9.,   8.,  12.,  13.,   9.,   8.,   5.,   6.,   9.,   7.,\n",
       "         12.,  10.,   1.,   8.,  13.,  10.,  10.,  12.,   6.,  12.,  13.,\n",
       "          7.,  16.,  10.,   6.,  14.,   9.,  11.,  12.,   8.,  11.,  15.,\n",
       "         20.,  23.,  21.,  17.,  19.,   7.]),\n",
       " array([ 0.00744311,  0.02726972,  0.04709633,  0.06692294,  0.08674955,\n",
       "         0.10657616,  0.12640277,  0.14622938,  0.16605599,  0.1858826 ,\n",
       "         0.20570921,  0.22553582,  0.24536243,  0.26518904,  0.28501566,\n",
       "         0.30484227,  0.32466888,  0.34449549,  0.3643221 ,  0.38414871,\n",
       "         0.40397532,  0.42380193,  0.44362854,  0.46345515,  0.48328176,\n",
       "         0.50310837,  0.52293498,  0.54276159,  0.5625882 ,  0.58241481,\n",
       "         0.60224142,  0.62206803,  0.64189464,  0.66172126,  0.68154787,\n",
       "         0.70137448,  0.72120109,  0.7410277 ,  0.76085431,  0.78068092,\n",
       "         0.80050753,  0.82033414,  0.84016075,  0.85998736,  0.87981397,\n",
       "         0.89964058,  0.91946719,  0.9392938 ,  0.95912041,  0.97894702,\n",
       "         0.99877363]),\n",
       " <a list of 50 Patch objects>)"
      ]
     },
     "execution_count": 13,
     "metadata": {},
     "output_type": "execute_result"
    },
    {
     "data": {
      "image/png": "[encoded data removed]",
      "text/plain": [
       "<matplotlib.figure.Figure at 0x232366e6ba8>"
      ]
     },
     "metadata": {},
     "output_type": "display_data"
    }
   ],
   "source": [
    "# Histogram of prediction results\n",
    "plt.hist(y_pred, bins=50)"
   ]
  },
  {
   "cell_type": "code",
   "execution_count": 14,
   "metadata": {
    "collapsed": false
   },
   "outputs": [
    {
     "data": {
      "text/plain": [
       "0"
      ]
     },
     "execution_count": 14,
     "metadata": {},
     "output_type": "execute_result"
    }
   ],
   "source": [
    "# Initial hacky approach is to simply take 0.5 as the cutoff for prediction\n",
    "y_pred_binary = [1 if (x>0.5) else 0 for x in y_pred]\n",
    "y_pred_binary[0]"
   ]
  },
  {
   "cell_type": "code",
   "execution_count": 15,
   "metadata": {
    "collapsed": false
   },
   "outputs": [
    {
     "data": {
      "text/plain": [
       "array([[106, 138],\n",
       "       [116, 172]])"
      ]
     },
     "execution_count": 15,
     "metadata": {},
     "output_type": "execute_result"
    }
   ],
   "source": [
    "# Confusion matrix of results\n",
    "conf = confusion_matrix(y_test, y_pred_binary)\n",
    "conf"
   ]
  },
  {
   "cell_type": "code",
   "execution_count": 16,
   "metadata": {
    "collapsed": false
   },
   "outputs": [
    {
     "data": {
      "text/plain": [
       "0.52255639097744366"
      ]
     },
     "execution_count": 16,
     "metadata": {},
     "output_type": "execute_result"
    }
   ],
   "source": [
    "# Test accuracy\n",
    "correct = sum([conf[i][i] for i in range(len(conf))])\n",
    "total = sum([sum(x) for x in conf])\n",
    "\n",
    "correct / total"
   ]
  },
  {
   "cell_type": "code",
   "execution_count": 17,
   "metadata": {
    "collapsed": false
   },
   "outputs": [
    {
     "name": "stdout",
     "output_type": "stream",
     "text": [
      "0.3 0.505639097744\n",
      "0.4 0.518796992481\n",
      "0.5 0.522556390977\n",
      "0.6000000000000001 0.505639097744\n",
      "0.7 0.494360902256\n",
      "0.8 0.475563909774\n"
     ]
    }
   ],
   "source": [
    "# Loop over different cutoff values for the binary predictions, comparing the accuracies each time\n",
    "cutoffs = [0.3 + 0.1*i for i in range(6)]\n",
    "\n",
    "for c in cutoffs:\n",
    "    y_pred_binary = [1 if (x>c) else 0 for x in y_pred]\n",
    "    conf = confusion_matrix(y_test, y_pred_binary)\n",
    "    correct = sum([conf[i][i] for i in range(len(conf))])\n",
    "    total = sum([sum(x) for x in conf])\n",
    "    \n",
    "    print(c, correct / total)"
   ]
  },
  {
   "cell_type": "markdown",
   "metadata": {},
   "source": [
    "Despite the right skew in the predictions histogram, moving the cutoff had little impact on the accuracy.\n",
    "\n",
    "Lets try instead a deeper architecture with softmax activations and see how the model performs.\n",
    "Capture the training accuracy to see if the model is overfitting on the training data"
   ]
  },
  {
   "cell_type": "code",
   "execution_count": 28,
   "metadata": {
    "collapsed": false
   },
   "outputs": [],
   "source": [
    "# Fit a model to the training data\n",
    "width = train_tdm_df.shape[1]\n",
    "\n",
    "model = Sequential()\n",
    "model.add(Dense(4000, input_dim=width, activation='relu'))\n",
    "model.add(Dropout(0.5))\n",
    "model.add(Dense(2000, activation='relu'))\n",
    "model.add(Dropout(0.5))\n",
    "model.add(Dense(100, activation='relu'))\n",
    "model.add(Dropout(0.5))\n",
    "model.add(Dense(1, activation='softmax'))\n",
    "\n",
    "model.compile(loss='binary_crossentropy',\n",
    "              optimizer='adadelta',\n",
    "              metrics=['accuracy'])\n",
    "\n",
    "hist = model.fit(train_tdm_df.values, y_train, nb_epoch=50, verbose=0)\n",
    "print(\"Training results: Accuracy - %.2f% Loss - %.2f%\" % (hist.history['acc'][-1], hist.history['loss'][-1]))"
   ]
  },
  {
   "cell_type": "code",
   "execution_count": 24,
   "metadata": {
    "collapsed": false
   },
   "outputs": [
    {
     "data": {
      "text/plain": [
       "dict_keys(['loss', 'acc'])"
      ]
     },
     "execution_count": 24,
     "metadata": {},
     "output_type": "execute_result"
    }
   ],
   "source": [
    "# Information captured in history:\n",
    "hist.history.keys()"
   ]
  },
  {
   "cell_type": "code",
   "execution_count": 29,
   "metadata": {
    "collapsed": false
   },
   "outputs": [
    {
     "data": {
      "image/png": "[encoded data removed]",
      "text/plain": [
       "<matplotlib.figure.Figure at 0x23200081588>"
      ]
     },
     "metadata": {},
     "output_type": "display_data"
    }
   ],
   "source": [
    "# Accuracy plot\n",
    "plt.plot(hist.history['acc'])\n",
    "plt.title('model accuracy')\n",
    "plt.ylabel('accuracy')\n",
    "plt.xlabel('epoch')\n",
    "plt.show()"
   ]
  },
  {
   "cell_type": "code",
   "execution_count": 30,
   "metadata": {
    "collapsed": false
   },
   "outputs": [
    {
     "data": {
      "image/png": "[encoded data removed]",
      "text/plain": [
       "<matplotlib.figure.Figure at 0x2323655e8d0>"
      ]
     },
     "metadata": {},
     "output_type": "display_data"
    }
   ],
   "source": [
    "# Log-loss plot\n",
    "plt.plot(hist.history['loss'])\n",
    "plt.title('model loss')\n",
    "plt.ylabel('loss')\n",
    "plt.xlabel('epoch')\n",
    "plt.show()"
   ]
  },
  {
   "cell_type": "code",
   "execution_count": 31,
   "metadata": {
    "collapsed": false
   },
   "outputs": [
    {
     "name": "stdout",
     "output_type": "stream",
     "text": [
      "[[171  73]\n",
      " [206  82]]\n"
     ]
    },
    {
     "data": {
      "text/plain": [
       "0.47556390977443608"
      ]
     },
     "execution_count": 31,
     "metadata": {},
     "output_type": "execute_result"
    }
   ],
   "source": [
    "# Predict on test set\n",
    "y_pred = model.predict(test_df.values)\n",
    "\n",
    "# Confusion matrix:\n",
    "conf = confusion_matrix(y_test, y_pred)\n",
    "print(conf)\n",
    "\n",
    "# Accuracy\n",
    "sum([conf[i][i] for i in range(len(conf))]) / sum([sum(x) for x in conf])"
   ]
  },
  {
   "cell_type": "code",
   "execution_count": 12,
   "metadata": {
    "collapsed": false
   },
   "outputs": [
    {
     "data": {
      "text/plain": [
       "[0.53382761866213324,\n",
       " 0.54216867458831386,\n",
       " 0.55792400398333941,\n",
       " 0.61353104737646824,\n",
       " 0.66172381862652752,\n",
       " 0.72567191813917931,\n",
       " 0.84337349397590367,\n",
       " 0.98702502339056397,\n",
       " 1.0,\n",
       " 1.0]"
      ]
     },
     "execution_count": 12,
     "metadata": {},
     "output_type": "execute_result"
    }
   ],
   "source": [
    "# Can a much wider net be trained?\n",
    "width = train_tdm_df.shape[1]\n",
    "\n",
    "model = Sequential()\n",
    "model.add(Dense(width, input_dim=width, activation='relu', W_constraint=maxnorm(3)))\n",
    "model.add(Dropout(0.5))\n",
    "model.add(Dense(5000, activation='relu', W_constraint=maxnorm(3)))\n",
    "model.add(Dropout(0.5))\n",
    "model.add(Dense(400, activation='relu', W_constraint=maxnorm(3)))\n",
    "model.add(Dropout(0.5))\n",
    "model.add(Dense(1, activation='sigmoid'))\n",
    "\n",
    "model.compile(loss='binary_crossentropy',\n",
    "              optimizer='adadelta',\n",
    "              metrics=['accuracy'])\n",
    "\n",
    "hist = model.fit(train_tdm_df.values, y_train, nb_epoch=10, verbose=0)\n",
    "hist.history['acc']"
   ]
  },
  {
   "cell_type": "code",
   "execution_count": 13,
   "metadata": {
    "collapsed": false
   },
   "outputs": [
    {
     "name": "stdout",
     "output_type": "stream",
     "text": [
      "[[ 98 146]\n",
      " [111 177]]\n"
     ]
    },
    {
     "data": {
      "text/plain": [
       "0.51691729323308266"
      ]
     },
     "execution_count": 13,
     "metadata": {},
     "output_type": "execute_result"
    }
   ],
   "source": [
    "# Obtain predictions\n",
    "y_pred = model.predict(test_df.values)\n",
    "\n",
    "y_pred_binary = [1 if (x>0.5) else 0 for x in y_pred]\n",
    "\n",
    "conf = confusion_matrix(y_test, y_pred_binary)\n",
    "print(conf)\n",
    "\n",
    "# Accuracy\n",
    "sum([conf[i][i] for i in range(len(conf))]) / sum([sum(x) for x in conf])"
   ]
  },
  {
   "cell_type": "code",
   "execution_count": 13,
   "metadata": {
    "collapsed": false
   },
   "outputs": [
    {
     "name": "stdout",
     "output_type": "stream",
     "text": [
      "0.3 0.518796992481\n",
      "0.4 0.516917293233\n",
      "0.5 0.526315789474\n",
      "0.6000000000000001 0.516917293233\n",
      "0.7 0.496240601504\n",
      "0.8 0.486842105263\n"
     ]
    }
   ],
   "source": [
    "cutoffs = [0.3 + 0.1*i for i in range(6)]\n",
    "\n",
    "for c in cutoffs:\n",
    "    y_pred_binary = [1 if (x>c) else 0 for x in y_pred]\n",
    "    conf = confusion_matrix(y_test, y_pred_binary)\n",
    "    correct = sum([conf[i][i] for i in range(len(conf))])\n",
    "    total = sum([sum(x) for x in conf])\n",
    "    \n",
    "    print(c, correct / total)"
   ]
  },
  {
   "cell_type": "markdown",
   "metadata": {},
   "source": [
    "#### K-Fold cross validation\n",
    "Instead of simply training and testing on 2 distinct splits, use k-fold cross validation to run 10 iterations"
   ]
  },
  {
   "cell_type": "code",
   "execution_count": 18,
   "metadata": {
    "collapsed": false
   },
   "outputs": [
    {
     "data": {
      "text/plain": [
       "(1611, 15559)"
      ]
     },
     "execution_count": 18,
     "metadata": {},
     "output_type": "execute_result"
    }
   ],
   "source": [
    "# Build tdm of tf-idf values on entire dataset - for kfold cross val\n",
    "full_tf_idf = vectorizer.fit_transform(doc_list)\n",
    "\n",
    "vocab = vectorizer.get_feature_names()\n",
    "full_tdm_df = pd.DataFrame(data=full_tf_idf.todense(), columns=vocab)\n",
    "full_tdm_df.shape"
   ]
  },
  {
   "cell_type": "code",
   "execution_count": 19,
   "metadata": {
    "collapsed": true
   },
   "outputs": [],
   "source": [
    "# Width will be the tdm width\n",
    "width = full_tdm_df.shape[1]\n",
    "layer_shape = 2000\n",
    "\n",
    "# Build basic sequential model\n",
    "def base_model():\n",
    "    model = Sequential()\n",
    "    model.add(Dense(4000, input_dim=width, activation='relu'))\n",
    "    model.add(Dropout(0.5))\n",
    "    model.add(Dense(layer_shape, activation='relu'))\n",
    "    model.add(Dropout(0.5))\n",
    "    model.add(Dense(1, activation='sigmoid'))\n",
    "\n",
    "    model.compile(loss='binary_crossentropy',\n",
    "                  optimizer='adadelta',\n",
    "                  metrics=['accuracy'])\n",
    "    return model"
   ]
  },
  {
   "cell_type": "code",
   "execution_count": 20,
   "metadata": {
    "collapsed": false
   },
   "outputs": [
    {
     "name": "stdout",
     "output_type": "stream",
     "text": [
      "Results: 50.46% (3.29%)\n"
     ]
    }
   ],
   "source": [
    "# Train and evaluate with kfold cross val\n",
    "estimator = KerasClassifier(build_fn=base_model, nb_epoch=10, batch_size=32, verbose=0)\n",
    "kfold = StratifiedKFold(n_splits=10, shuffle=True, random_state=seed)\n",
    "results = cross_val_score(estimator, full_tdm_df.values, Input_y, cv=kfold)\n",
    "print(\"Results: %.2f%% (%.2f%%)\" % (results.mean()*100, results.std()*100))"
   ]
  },
  {
   "cell_type": "markdown",
   "metadata": {},
   "source": [
    "A fraction over 50% isn't ideal (It's basically random chance). More work is going to be needed to get that value higher.\n",
    "A few things that can be looked at:\n",
    "* Extract topics using LDA to form the input features\n",
    "* LSTM to process the headlines (Potentially better for semantic understanding)\n",
    "* Combine with sequence learning - predict the next target value based on preceeding ones\n",
    "* Use word embeddings combined with convnet - https://blog.keras.io/using-pre-trained-word-embeddings-in-a-keras-model.html"
   ]
  }
 ],
 "metadata": {
  "kernelspec": {
   "display_name": "Python 3",
   "language": "python",
   "name": "python3"
  },
  "language_info": {
   "codemirror_mode": {
    "name": "ipython",
    "version": 3
   },
   "file_extension": ".py",
   "mimetype": "text/x-python",
   "name": "python",
   "nbconvert_exporter": "python",
   "pygments_lexer": "ipython3",
   "version": "3.5.1"
  }
 },
 "nbformat": 4,
 "nbformat_minor": 2
}
